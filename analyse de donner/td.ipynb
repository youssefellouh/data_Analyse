{
 "cells": [
  {
   "cell_type": "code",
   "execution_count": null,
   "metadata": {},
   "outputs": [],
   "source": []
  },
  {
   "cell_type": "markdown",
   "metadata": {},
   "source": [
    "## ex1"
   ]
  },
  {
   "cell_type": "markdown",
   "metadata": {},
   "source": [
    "![Image](images/image1.png)"
   ]
  },
  {
   "cell_type": "code",
   "execution_count": 2,
   "metadata": {},
   "outputs": [
    {
     "name": "stdout",
     "output_type": "stream",
     "text": [
      "Données centrées et réduites :\n",
      " [[-1.22474487  0.          1.22474487]\n",
      " [ 0.33968311  1.01904933 -1.35873244]]\n",
      "\n",
      "Matrice des variances-covariances :\n",
      " [[ 1.5        -1.04006287]\n",
      " [-1.04006287  1.5       ]]\n",
      "\n",
      "Matrice des corrélations :\n",
      " [[ 1.         -0.69337525]\n",
      " [-0.69337525  1.        ]]\n",
      "\n",
      "Valeurs propres :\n",
      " [0.45993713 2.54006287]\n",
      "\n",
      "Vecteurs propres :\n",
      " [[-0.70710678  0.70710678]\n",
      " [-0.70710678 -0.70710678]]\n"
     ]
    }
   ],
   "source": [
    "import numpy as np\n",
    "data = np.array([[4, 6, 8],\n",
    "           [5, 7, 0]])\n",
    "\n",
    "# 1. Centrer et réduire les données\n",
    "data_centered = data - np.mean(data, axis=1, keepdims=True)\n",
    "data_standardized = data_centered / np.std(data_centered, axis=1, keepdims=True)\n",
    "\n",
    "# 2. Calcul de la matrice des variances-covariances\n",
    "cov_matrix = np.cov(data_standardized)\n",
    "\n",
    "# 3. Calcul de la matrice des corrélations\n",
    "cor_matrix = np.corrcoef(data_standardized)\n",
    "\n",
    "# 4. Calcul des valeurs propres et vecteurs propres\n",
    "eigenvalues, eigenvectors = np.linalg.eig(cov_matrix)\n",
    "\n",
    "# Impression des résultats\n",
    "print(\"Données centrées et réduites :\\n\", data_standardized)\n",
    "print(\"\\nMatrice des variances-covariances :\\n\", cov_matrix)\n",
    "print(\"\\nMatrice des corrélations :\\n\", cor_matrix)\n",
    "print(\"\\nValeurs propres :\\n\", eigenvalues)\n",
    "print(\"\\nVecteurs propres :\\n\", eigenvectors)\n",
    "\n"
   ]
  },
  {
   "cell_type": "markdown",
   "metadata": {},
   "source": [
    "## ex2\n",
    "![image.png](images/image3.png)"
   ]
  },
  {
   "cell_type": "code",
   "execution_count": 2,
   "metadata": {},
   "outputs": [
    {
     "name": "stdout",
     "output_type": "stream",
     "text": [
      "1. Taille de la matrice individus/variables : (11, 2)\n",
      "2. Moyennes des variables : [6. 6.]\n",
      "   Écart-types des variables : [3.16227766 3.16227766]\n",
      "3. Matrice de variance-covariance :\n",
      " [[11.   8.3]\n",
      " [ 8.3 11. ]]\n",
      "   Matrice de corrélation :\n",
      " [[1.         0.75454545]\n",
      " [0.75454545 1.        ]]\n",
      "4. Valeurs propres de la matrice de variance-covariance :\n",
      " [19.3  2.7]\n",
      "   Vecteurs propres de la matrice de variance-covariance :\n",
      " [[ 0.70710678 -0.70710678]\n",
      " [ 0.70710678  0.70710678]]\n",
      "5. Contribution de chaque axe principal à l'inertie du nuage :\n",
      " [0.87727273 0.12272727]\n",
      "6. Nouveaux axes principaux :\n",
      " [[ 0.70710678 -0.70710678]\n",
      " [ 0.70710678  0.70710678]]\n",
      "   Nouvelles composantes principales :\n",
      " [[ 5.65685425e+00 -2.82842712e+00]\n",
      " [ 4.94974747e+00  3.53553391e+00]\n",
      " [ 6.36396103e+00  7.07106781e-01]\n",
      " [ 5.65685425e+00 -1.41421356e+00]\n",
      " [ 4.94974747e+00  7.07106781e-01]\n",
      " [ 2.12132034e+00 -7.07106781e-01]\n",
      " [ 1.20208153e+01 -7.07106781e-01]\n",
      " [ 1.13137085e+01  1.41421356e+00]\n",
      " [ 1.06066017e+01 -7.07106781e-01]\n",
      " [ 1.41421356e+01 -8.88178420e-16]\n",
      " [ 1.55563492e+01 -1.33226763e-15]]\n"
     ]
    }
   ],
   "source": [
    "import numpy as np\n",
    "\n",
    "Math = [6, 1, 4, 5, 3, 2, 9, 7, 8, 10, 11]\n",
    "Francais = [2, 6, 5, 3, 4, 1, 8, 9, 7, 10, 11]\n",
    "donnees = np.array([Math, Francais]).T\n",
    "taille_matrice = donnees.shape\n",
    "print(\"1. Taille de la matrice individus/variables :\", taille_matrice)\n",
    "moyennes = np.mean(donnees, axis=0)\n",
    "ecart_types = np.std(donnees, axis=0)\n",
    "print(\"2. Moyennes des variables :\", moyennes)\n",
    "print(\"   Écart-types des variables :\", ecart_types)\n",
    "\n",
    "\n",
    "matrice_covariance = np.cov(donnees, rowvar=False)\n",
    "matrice_correlation = np.corrcoef(donnees, rowvar=False)\n",
    "print(\"3. Matrice de variance-covariance :\\n\", matrice_covariance)\n",
    "print(\"   Matrice de corrélation :\\n\", matrice_correlation)\n",
    "\n",
    "\n",
    "valeurs_propres, vecteurs_propres = np.linalg.eig(matrice_covariance)\n",
    "print(\"4. Valeurs propres de la matrice de variance-covariance :\\n\", valeurs_propres)\n",
    "print(\"   Vecteurs propres de la matrice de variance-covariance :\\n\", vecteurs_propres)\n",
    "contribution_axes = valeurs_propres / np.sum(valeurs_propres)\n",
    "print(\"5. Contribution de chaque axe principal à l'inertie du nuage :\\n\", contribution_axes)\n",
    "\n",
    "nouveaux_axes_principaux = vecteurs_propres\n",
    "nouvelles_composantes_principales = np.dot(donnees, nouveaux_axes_principaux)\n",
    "print(\"6. Nouveaux axes principaux :\\n\", nouveaux_axes_principaux)\n",
    "print(\"   Nouvelles composantes principales :\\n\", nouvelles_composantes_principales)\n"
   ]
  },
  {
   "cell_type": "markdown",
   "metadata": {},
   "source": [
    "## ex3\n",
    "![Image](images/image.png)"
   ]
  },
  {
   "cell_type": "code",
   "execution_count": 4,
   "metadata": {},
   "outputs": [
    {
     "name": "stdout",
     "output_type": "stream",
     "text": [
      "Assignation des clusters :  [0 2 1 0 1 1 2 0]\n",
      "Nouveaux centres des clusters :  [[3.66666667 9.        ]\n",
      " [7.         4.33333333]\n",
      " [1.5        3.5       ]]\n"
     ]
    }
   ],
   "source": [
    "import numpy as np\n",
    "import matplotlib.pyplot as plt\n",
    "\n",
    "points = np.array([\n",
    "    [2, 10],  # A1\n",
    "    [2, 5],   # A2\n",
    "    [8, 4],   # A3\n",
    "    [5, 8],   # A4\n",
    "    [7, 5],   # A5\n",
    "    [6, 4],   # A6\n",
    "    [1, 2],   # A7\n",
    "    [4, 9]    # A8\n",
    "])\n",
    "\n",
    "# Centres initiaux des clusters (A1, A4, A7)\n",
    "initial_centers = np.array([\n",
    "    [2, 10],  # C1\n",
    "    [5, 8],   # C2\n",
    "    [1, 2]    # C3\n",
    "])\n",
    "\n",
    "def euclidean_distance(point1, point2):\n",
    "    return np.sqrt(np.sum((point1 - point2) ** 2))\n",
    "\n",
    "def kmeans_simple(points, initial_centers, num_clusters=3, max_iters=100):\n",
    "    centers = initial_centers\n",
    "    for _ in range(max_iters):\n",
    "        labels = []\n",
    "        for point in points:\n",
    "            distances = [euclidean_distance(point, center) for center in centers]\n",
    "            labels.append(np.argmin(distances))\n",
    "        labels = np.array(labels)\n",
    "        new_centers = []\n",
    "        for i in range(num_clusters):\n",
    "            cluster_points = points[labels == i]\n",
    "            if len(cluster_points) > 0:\n",
    "                new_center = cluster_points.mean(axis=0)\n",
    "            else:\n",
    "                new_center = centers[i]\n",
    "            new_centers.append(new_center)\n",
    "        new_centers = np.array(new_centers)\n",
    "        if np.allclose(centers, new_centers):\n",
    "            break\n",
    "        centers = new_centers\n",
    "    \n",
    "    return labels, centers\n",
    "\n",
    "labels, final_centers = kmeans_simple(points, initial_centers)\n",
    "\n",
    "print(\"Assignation des clusters : \", labels)\n",
    "print(\"Nouveaux centres des clusters : \", final_centers)"
   ]
  },
  {
   "cell_type": "markdown",
   "metadata": {},
   "source": [
    "## ex4\n",
    "![Image](images/image2.png)"
   ]
  },
  {
   "cell_type": "code",
   "execution_count": 5,
   "metadata": {},
   "outputs": [
    {
     "name": "stdout",
     "output_type": "stream",
     "text": [
      "Classe de X6 selon K-NN avec K = 1 : 2\n",
      "Classe de X6 selon K-NN avec K = 3 : 2\n"
     ]
    }
   ],
   "source": [
    "import numpy as np\n",
    "\n",
    "# Base de connaissance sous forme de tableau numpy\n",
    "base_de_connaissance = np.array([\n",
    "    [3, 5, 4, 6, 1, 1],\n",
    "    [4, 6, 10, 3, 2, 2],\n",
    "    [8, 3, 4, 2, 6, 3],\n",
    "    [2, 1, 4, 3, 6, 3],\n",
    "    [2, 5, 1, 4, 8, 2]\n",
    "])\n",
    "\n",
    "# Instance à classer (X6)\n",
    "X6 = np.array([3, 12, 4, 7, 8])\n",
    "def distance_euclidienne(x1, x2):\n",
    "    return np.sqrt(np.sum((x1 - x2) ** 2))\n",
    "\n",
    "# Fonction pour prédire la classe avec K-NN\n",
    "def knn_predict(base_de_connaissance, X, K):\n",
    "    distances = []\n",
    "    for row in base_de_connaissance:\n",
    "        dist = distance_euclidienne(X, row[:-1]) \n",
    "        distances.append((dist, row[-1])) \n",
    "    \n",
    "    # Trier par distance et obtenir les K plus proches voisins\n",
    "    distances.sort(key=lambda x: x[0])\n",
    "    neighbors = distances[:K]\n",
    "    counts = np.bincount([neighbor[1] for neighbor in neighbors])\n",
    "    return np.argmax(counts)\n",
    "\n",
    "# Utilisation de la fonction knn_predict pour prédire la classe de X6 avec K = 1 et K = 3\n",
    "classe_k1 = knn_predict(base_de_connaissance, X6, K=1)\n",
    "classe_k3 = knn_predict(base_de_connaissance, X6, K=3)\n",
    "\n",
    "print(f\"Classe de X6 selon K-NN avec K = 1 : {classe_k1}\")\n",
    "print(f\"Classe de X6 selon K-NN avec K = 3 : {classe_k3}\")\n"
   ]
  },
  {
   "cell_type": "code",
   "execution_count": null,
   "metadata": {},
   "outputs": [],
   "source": []
  }
 ],
 "metadata": {
  "kernelspec": {
   "display_name": "myenv",
   "language": "python",
   "name": "python3"
  },
  "language_info": {
   "codemirror_mode": {
    "name": "ipython",
    "version": 3
   },
   "file_extension": ".py",
   "mimetype": "text/x-python",
   "name": "python",
   "nbconvert_exporter": "python",
   "pygments_lexer": "ipython3",
   "version": "3.10.12"
  }
 },
 "nbformat": 4,
 "nbformat_minor": 2
}
